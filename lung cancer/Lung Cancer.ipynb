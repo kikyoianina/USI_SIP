{
 "cells": [
  {
   "cell_type": "code",
   "execution_count": 1,
   "metadata": {
    "collapsed": false
   },
   "outputs": [
    {
     "name": "stdout",
     "output_type": "stream",
     "text": [
      "Populating the interactive namespace from numpy and matplotlib\n"
     ]
    }
   ],
   "source": [
    "%pylab inline\n",
    "import matplotlib.pyplot as plt\n",
    "import numpy as np\n",
    "import pandas as pd\n",
    "import Quandl\n",
    "import statsmodels.api as sm\n",
    "import statsmodels.formula.api as smf\n",
    "from statsmodels.graphics.api import abline_plot\n",
    "import patsy\n",
    "import seaborn as sns\n",
    "sns.set(context='notebook', style='whitegrid', palette='deep', font='sans-serif', font_scale=1, rc=None)\n",
    "import urllib2 as url\n",
    "import statsmodels.api as sm\n",
    "import statsmodels.formula.api as smf\n",
    "from __future__ import print_function, division\n",
    "\n",
    "\n",
    "import numpy as np\n",
    "import matplotlib.pyplot as plt\n",
    "from scipy import stats\n",
    "import seaborn as sns; sns.set() # you can comment out this line if you don't\n",
    "# have seaborn installed; it just serves to make some of the plots prettier\n",
    "#from sklearn.decomposition import PCA\n",
    "#from sklearn.decomposition import KernelPCA\n",
    "#from sklearn.decomposition import SparsePCA\n",
    "%matplotlib inline\n",
    "matplotlib.rcParams['figure.figsize'] = (20.0, 5.0)"
   ]
  },
  {
   "cell_type": "code",
   "execution_count": 3,
   "metadata": {
    "collapsed": true
   },
   "outputs": [
    {
     "data": {
      "text/html": [
       "<div>\n",
       "<table border=\"1\" class=\"dataframe\">\n",
       "  <thead>\n",
       "    <tr style=\"text-align: right;\">\n",
       "      <th></th>\n",
       "      <th>Row Labels</th>\n",
       "      <th>2001-2005</th>\n",
       "      <th>2002-2006</th>\n",
       "      <th>2003-2007</th>\n",
       "      <th>2004-2008</th>\n",
       "      <th>2006-2010</th>\n",
       "      <th>2007-2011</th>\n",
       "      <th>2009PM25</th>\n",
       "      <th>2010PM2.5</th>\n",
       "      <th>2011PM2.5</th>\n",
       "      <th>2009NO2</th>\n",
       "      <th>2010NO2</th>\n",
       "      <th>2011NO2</th>\n",
       "      <th>M_PM25</th>\n",
       "      <th>M_NO2</th>\n",
       "    </tr>\n",
       "  </thead>\n",
       "  <tbody>\n",
       "    <tr>\n",
       "      <th>0</th>\n",
       "      <td>Kingsbridge - Riverdale</td>\n",
       "      <td>48.7</td>\n",
       "      <td>47.8</td>\n",
       "      <td>52.0</td>\n",
       "      <td>55.3</td>\n",
       "      <td>55.2</td>\n",
       "      <td>54.5</td>\n",
       "      <td>11.03</td>\n",
       "      <td>10.09</td>\n",
       "      <td>10.65</td>\n",
       "      <td>23.20</td>\n",
       "      <td>20.13</td>\n",
       "      <td>20.79</td>\n",
       "      <td>10.590000</td>\n",
       "      <td>21.373333</td>\n",
       "    </tr>\n",
       "    <tr>\n",
       "      <th>1</th>\n",
       "      <td>Northeast Bronx</td>\n",
       "      <td>48.6</td>\n",
       "      <td>47.8</td>\n",
       "      <td>48.4</td>\n",
       "      <td>47.0</td>\n",
       "      <td>44.7</td>\n",
       "      <td>43.9</td>\n",
       "      <td>10.68</td>\n",
       "      <td>9.65</td>\n",
       "      <td>10.48</td>\n",
       "      <td>22.39</td>\n",
       "      <td>20.21</td>\n",
       "      <td>21.06</td>\n",
       "      <td>10.270000</td>\n",
       "      <td>21.220000</td>\n",
       "    </tr>\n",
       "    <tr>\n",
       "      <th>2</th>\n",
       "      <td>Fordham - Bronx Pk</td>\n",
       "      <td>53.0</td>\n",
       "      <td>53.1</td>\n",
       "      <td>53.9</td>\n",
       "      <td>53.6</td>\n",
       "      <td>50.4</td>\n",
       "      <td>49.5</td>\n",
       "      <td>11.10</td>\n",
       "      <td>10.26</td>\n",
       "      <td>10.77</td>\n",
       "      <td>24.82</td>\n",
       "      <td>22.06</td>\n",
       "      <td>22.61</td>\n",
       "      <td>10.710000</td>\n",
       "      <td>23.163333</td>\n",
       "    </tr>\n",
       "    <tr>\n",
       "      <th>3</th>\n",
       "      <td>Pelham - Throgs Neck</td>\n",
       "      <td>56.9</td>\n",
       "      <td>58.4</td>\n",
       "      <td>60.0</td>\n",
       "      <td>59.7</td>\n",
       "      <td>58.4</td>\n",
       "      <td>58.1</td>\n",
       "      <td>10.59</td>\n",
       "      <td>9.68</td>\n",
       "      <td>10.50</td>\n",
       "      <td>22.83</td>\n",
       "      <td>21.04</td>\n",
       "      <td>21.61</td>\n",
       "      <td>10.256667</td>\n",
       "      <td>21.826667</td>\n",
       "    </tr>\n",
       "    <tr>\n",
       "      <th>4</th>\n",
       "      <td>Crotona -Tremont</td>\n",
       "      <td>54.5</td>\n",
       "      <td>54.6</td>\n",
       "      <td>53.5</td>\n",
       "      <td>54.1</td>\n",
       "      <td>55.9</td>\n",
       "      <td>53.2</td>\n",
       "      <td>11.76</td>\n",
       "      <td>10.99</td>\n",
       "      <td>11.45</td>\n",
       "      <td>28.07</td>\n",
       "      <td>25.25</td>\n",
       "      <td>25.57</td>\n",
       "      <td>11.400000</td>\n",
       "      <td>26.296667</td>\n",
       "    </tr>\n",
       "  </tbody>\n",
       "</table>\n",
       "</div>"
      ],
      "text/plain": [
       "                Row Labels  2001-2005  2002-2006  2003-2007  2004-2008  \\\n",
       "0  Kingsbridge - Riverdale       48.7       47.8       52.0       55.3   \n",
       "1          Northeast Bronx       48.6       47.8       48.4       47.0   \n",
       "2       Fordham - Bronx Pk       53.0       53.1       53.9       53.6   \n",
       "3     Pelham - Throgs Neck       56.9       58.4       60.0       59.7   \n",
       "4         Crotona -Tremont       54.5       54.6       53.5       54.1   \n",
       "\n",
       "   2006-2010  2007-2011  2009PM25  2010PM2.5  2011PM2.5  2009NO2  2010NO2  \\\n",
       "0       55.2       54.5     11.03      10.09      10.65    23.20    20.13   \n",
       "1       44.7       43.9     10.68       9.65      10.48    22.39    20.21   \n",
       "2       50.4       49.5     11.10      10.26      10.77    24.82    22.06   \n",
       "3       58.4       58.1     10.59       9.68      10.50    22.83    21.04   \n",
       "4       55.9       53.2     11.76      10.99      11.45    28.07    25.25   \n",
       "\n",
       "   2011NO2     M_PM25      M_NO2  \n",
       "0    20.79  10.590000  21.373333  \n",
       "1    21.06  10.270000  21.220000  \n",
       "2    22.61  10.710000  23.163333  \n",
       "3    21.61  10.256667  21.826667  \n",
       "4    25.57  11.400000  26.296667  "
      ]
     },
     "execution_count": 3,
     "metadata": {},
     "output_type": "execute_result"
    }
   ],
   "source": [
    "data = pd.read_csv(\"Lung Cancer Pivot.csv\")\n",
    "data.head()"
   ]
  },
  {
   "cell_type": "code",
   "execution_count": 5,
   "metadata": {
    "collapsed": true
   },
   "outputs": [
    {
     "name": "stdout",
     "output_type": "stream",
     "text": [
      "<class 'pandas.core.frame.DataFrame'>\n",
      "Int64Index: 42 entries, 0 to 41\n",
      "Data columns (total 15 columns):\n",
      "Row Labels    42 non-null object\n",
      "2001-2005     42 non-null float64\n",
      "2002-2006     42 non-null float64\n",
      "2003-2007     42 non-null float64\n",
      "2004-2008     42 non-null float64\n",
      "2006-2010     42 non-null float64\n",
      "2007-2011     42 non-null float64\n",
      "2009PM25      42 non-null float64\n",
      "2010PM2.5     42 non-null float64\n",
      "2011PM2.5     42 non-null float64\n",
      "2009NO2       42 non-null float64\n",
      "2010NO2       42 non-null float64\n",
      "2011NO2       42 non-null float64\n",
      "M_PM25        42 non-null float64\n",
      "M_NO2         42 non-null float64\n",
      "dtypes: float64(14), object(1)\n",
      "memory usage: 5.2+ KB\n"
     ]
    }
   ],
   "source": [
    "data.info()"
   ]
  },
  {
   "cell_type": "code",
   "execution_count": 49,
   "metadata": {
    "collapsed": true
   },
   "outputs": [],
   "source": [
    "newdata = data.rename(columns={'2007-2011':'Lung07_11','2009PM25':'PM09',\n",
    "                               '2011PM2.5':'PM11','2010PM2.5':'PM10','2009NO2':'NO209',\n",
    "                              '2010NO2':'NO210','2011NO2':'NO211'})\n",
    "#newdata"
   ]
  },
  {
   "cell_type": "code",
   "execution_count": 48,
   "metadata": {
    "collapsed": false
   },
   "outputs": [
    {
     "name": "stdout",
     "output_type": "stream",
     "text": [
      "                            OLS Regression Results                            \n",
      "==============================================================================\n",
      "Dep. Variable:              Lung07_11   R-squared:                       0.043\n",
      "Model:                            OLS   Adj. R-squared:                 -0.033\n",
      "Method:                 Least Squares   F-statistic:                    0.5669\n",
      "Date:                Sat, 12 Mar 2016   Prob (F-statistic):              0.640\n",
      "Time:                        12:06:30   Log-Likelihood:                -144.64\n",
      "No. Observations:                  42   AIC:                             297.3\n",
      "Df Residuals:                      38   BIC:                             304.2\n",
      "Df Model:                           3                                         \n",
      "Covariance Type:            nonrobust                                         \n",
      "==============================================================================\n",
      "                 coef    std err          t      P>|t|      [95.0% Conf. Int.]\n",
      "------------------------------------------------------------------------------\n",
      "Intercept     60.3870     15.209      3.971      0.000        29.598    91.176\n",
      "PM09          12.5640      9.805      1.281      0.208        -7.285    32.413\n",
      "PM10          -5.7838      7.218     -0.801      0.428       -20.396     8.828\n",
      "PM11          -8.4168      8.969     -0.938      0.354       -26.573     9.739\n",
      "==============================================================================\n",
      "Omnibus:                        0.399   Durbin-Watson:                   1.225\n",
      "Prob(Omnibus):                  0.819   Jarque-Bera (JB):                0.562\n",
      "Skew:                           0.121   Prob(JB):                        0.755\n",
      "Kurtosis:                       2.487   Cond. No.                         262.\n",
      "==============================================================================\n",
      "\n",
      "Warnings:\n",
      "[1] Standard Errors assume that the covariance matrix of the errors is correctly specified.\n"
     ]
    }
   ],
   "source": [
    "mod = smf.ols('Lung07_11 ~ PM09  + PM10 + PM11', data = newdata).fit()\n",
    "print(mod.summary())"
   ]
  },
  {
   "cell_type": "code",
   "execution_count": 50,
   "metadata": {
    "collapsed": false
   },
   "outputs": [
    {
     "name": "stdout",
     "output_type": "stream",
     "text": [
      "                            OLS Regression Results                            \n",
      "==============================================================================\n",
      "Dep. Variable:              Lung07_11   R-squared:                       0.188\n",
      "Model:                            OLS   Adj. R-squared:                  0.124\n",
      "Method:                 Least Squares   F-statistic:                     2.926\n",
      "Date:                Sat, 12 Mar 2016   Prob (F-statistic):             0.0460\n",
      "Time:                        12:09:53   Log-Likelihood:                -141.20\n",
      "No. Observations:                  42   AIC:                             290.4\n",
      "Df Residuals:                      38   BIC:                             297.3\n",
      "Df Model:                           3                                         \n",
      "Covariance Type:            nonrobust                                         \n",
      "==============================================================================\n",
      "                 coef    std err          t      P>|t|      [95.0% Conf. Int.]\n",
      "------------------------------------------------------------------------------\n",
      "Intercept     59.5848      7.032      8.473      0.000        45.349    73.821\n",
      "NO209          4.9032      2.165      2.264      0.029         0.519     9.287\n",
      "NO210         -8.7284      3.797     -2.299      0.027       -16.414    -1.043\n",
      "NO211          2.9998      3.934      0.763      0.450        -4.964    10.964\n",
      "==============================================================================\n",
      "Omnibus:                        1.177   Durbin-Watson:                   1.498\n",
      "Prob(Omnibus):                  0.555   Jarque-Bera (JB):                1.190\n",
      "Skew:                          -0.322   Prob(JB):                        0.551\n",
      "Kurtosis:                       2.485   Cond. No.                         297.\n",
      "==============================================================================\n",
      "\n",
      "Warnings:\n",
      "[1] Standard Errors assume that the covariance matrix of the errors is correctly specified.\n"
     ]
    }
   ],
   "source": [
    "mod2 = smf.ols('Lung07_11 ~ NO209 + NO210 + NO211', data = newdata).fit()\n",
    "print(mod2.summary())"
   ]
  },
  {
   "cell_type": "code",
   "execution_count": 52,
   "metadata": {
    "collapsed": false
   },
   "outputs": [
    {
     "name": "stdout",
     "output_type": "stream",
     "text": [
      "                            OLS Regression Results                            \n",
      "==============================================================================\n",
      "Dep. Variable:              Lung07_11   R-squared:                       0.001\n",
      "Model:                            OLS   Adj. R-squared:                 -0.024\n",
      "Method:                 Least Squares   F-statistic:                   0.03923\n",
      "Date:                Sat, 12 Mar 2016   Prob (F-statistic):              0.844\n",
      "Time:                        12:10:45   Log-Likelihood:                -145.54\n",
      "No. Observations:                  42   AIC:                             295.1\n",
      "Df Residuals:                      40   BIC:                             298.6\n",
      "Df Model:                           1                                         \n",
      "Covariance Type:            nonrobust                                         \n",
      "==============================================================================\n",
      "                 coef    std err          t      P>|t|      [95.0% Conf. Int.]\n",
      "------------------------------------------------------------------------------\n",
      "Intercept     53.2224     10.892      4.886      0.000        31.208    75.237\n",
      "M_PM25        -0.2027      1.023     -0.198      0.844        -2.270     1.865\n",
      "==============================================================================\n",
      "Omnibus:                        0.466   Durbin-Watson:                   1.093\n",
      "Prob(Omnibus):                  0.792   Jarque-Bera (JB):                0.478\n",
      "Skew:                           0.230   Prob(JB):                        0.788\n",
      "Kurtosis:                       2.751   Cond. No.                         95.6\n",
      "==============================================================================\n",
      "\n",
      "Warnings:\n",
      "[1] Standard Errors assume that the covariance matrix of the errors is correctly specified.\n"
     ]
    }
   ],
   "source": [
    "mod3 = smf.ols('Lung07_11 ~ M_PM25', data = newdata).fit()\n",
    "print(mod3.summary())"
   ]
  },
  {
   "cell_type": "code",
   "execution_count": 54,
   "metadata": {
    "collapsed": false
   },
   "outputs": [
    {
     "data": {
      "text/plain": [
       "[<matplotlib.lines.Line2D at 0xadb06d8>]"
      ]
     },
     "execution_count": 54,
     "metadata": {},
     "output_type": "execute_result"
    },
    {
     "data": {
      "image/png": "[encoded data removed]",
      "text/plain": [
       "<matplotlib.figure.Figure at 0xaea35c0>"
      ]
     },
     "metadata": {},
     "output_type": "display_data"
    }
   ],
   "source": [
    "newdata[['M_PM25', 'Lung07_11']].plot(kind='scatter', x='M_PM25', y='Lung07_11',marker='o', s=100, \n",
    "                                    alpha=0.5,figsize=(10,7), fontsize=15)\n",
    "plt.xlabel('Mean of PM2.5 from 2009 to 2011') \n",
    "plt.ylabel('The Rate of Lung Cancer from 2007 to 2011') \n",
    "#plt.xlim(-1500, 5100000)\n",
    "#plt.ylim(-5, 30)\n",
    "plot(newdata['M_PM25'],mod3.predict(), color = 'r')"
   ]
  },
  {
   "cell_type": "code",
   "execution_count": 56,
   "metadata": {
    "collapsed": false
   },
   "outputs": [
    {
     "name": "stdout",
     "output_type": "stream",
     "text": [
      "                            OLS Regression Results                            \n",
      "==============================================================================\n",
      "Dep. Variable:              Lung07_11   R-squared:                       0.014\n",
      "Model:                            OLS   Adj. R-squared:                 -0.010\n",
      "Method:                 Least Squares   F-statistic:                    0.5753\n",
      "Date:                Sat, 12 Mar 2016   Prob (F-statistic):              0.453\n",
      "Time:                        12:19:59   Log-Likelihood:                -145.26\n",
      "No. Observations:                  42   AIC:                             294.5\n",
      "Df Residuals:                      40   BIC:                             298.0\n",
      "Df Model:                           1                                         \n",
      "Covariance Type:            nonrobust                                         \n",
      "==============================================================================\n",
      "                 coef    std err          t      P>|t|      [95.0% Conf. Int.]\n",
      "------------------------------------------------------------------------------\n",
      "Intercept     55.1708      5.531      9.976      0.000        43.993    66.348\n",
      "M_NO2         -0.1662      0.219     -0.758      0.453        -0.609     0.277\n",
      "==============================================================================\n",
      "Omnibus:                        0.229   Durbin-Watson:                   1.118\n",
      "Prob(Omnibus):                  0.892   Jarque-Bera (JB):                0.406\n",
      "Skew:                           0.130   Prob(JB):                        0.816\n",
      "Kurtosis:                       2.594   Cond. No.                         115.\n",
      "==============================================================================\n",
      "\n",
      "Warnings:\n",
      "[1] Standard Errors assume that the covariance matrix of the errors is correctly specified.\n"
     ]
    }
   ],
   "source": [
    "mod4 = smf.ols('Lung07_11 ~ M_NO2', data = newdata).fit()\n",
    "print(mod4.summary())"
   ]
  },
  {
   "cell_type": "code",
   "execution_count": 57,
   "metadata": {
    "collapsed": false
   },
   "outputs": [
    {
     "data": {
      "text/plain": [
       "[<matplotlib.lines.Line2D at 0xaea3048>]"
      ]
     },
     "execution_count": 57,
     "metadata": {},
     "output_type": "execute_result"
    },
    {
     "data": {
      "image/png": "[encoded data removed]",
      "text/plain": [
       "<matplotlib.figure.Figure at 0xafeccc0>"
      ]
     },
     "metadata": {},
     "output_type": "display_data"
    }
   ],
   "source": [
    "newdata[['M_NO2', 'Lung07_11']].plot(kind='scatter', x='M_NO2', y='Lung07_11',marker='o', s=100, \n",
    "                                    alpha=0.5,figsize=(10,7), fontsize=15)\n",
    "plt.xlabel('Mean of NO2 from 2009 to 2011') \n",
    "plt.ylabel('The Rate of Lung Cancer from 2007 to 2011') \n",
    "#plt.xlim(-1500, 5100000)\n",
    "#plt.ylim(-5, 30)\n",
    "plot(newdata['M_NO2'],mod4.predict(), color = 'r')"
   ]
  },
  {
   "cell_type": "code",
   "execution_count": null,
   "metadata": {
    "collapsed": true
   },
   "outputs": [],
   "source": []
  }
 ],
 "metadata": {
  "kernelspec": {
   "display_name": "Python 2",
   "language": "python",
   "name": "python2"
  },
  "language_info": {
   "codemirror_mode": {
    "name": "ipython",
    "version": 2
   },
   "file_extension": ".py",
   "mimetype": "text/x-python",
   "name": "python",
   "nbconvert_exporter": "python",
   "pygments_lexer": "ipython2",
   "version": "2.7.11"
  }
 },
 "nbformat": 4,
 "nbformat_minor": 0
}
