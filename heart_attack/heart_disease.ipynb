{
 "cells": [
  {
   "cell_type": "code",
   "execution_count": 1,
   "metadata": {
    "collapsed": false
   },
   "outputs": [
    {
     "name": "stdout",
     "output_type": "stream",
     "text": [
      "Populating the interactive namespace from numpy and matplotlib\n"
     ]
    }
   ],
   "source": [
    "%pylab inline\n",
    "import matplotlib.pyplot as plt\n",
    "import numpy as np\n",
    "import pandas as pd\n",
    "import Quandl\n",
    "import statsmodels.api as sm\n",
    "import statsmodels.formula.api as smf\n",
    "from statsmodels.graphics.api import abline_plot\n",
    "import patsy\n",
    "import seaborn as sns\n",
    "sns.set(context='notebook', style='whitegrid', palette='deep', font='sans-serif', font_scale=1, rc=None)\n",
    "import urllib2 as url\n",
    "import statsmodels.api as sm\n",
    "import statsmodels.formula.api as smf"
   ]
  },
  {
   "cell_type": "code",
   "execution_count": 14,
   "metadata": {
    "collapsed": false
   },
   "outputs": [],
   "source": [
    "datas = pd.read_csv('data35to65.csv')"
   ]
  },
  {
   "cell_type": "code",
   "execution_count": 15,
   "metadata": {
    "collapsed": false
   },
   "outputs": [
    {
     "data": {
      "text/html": [
       "<div>\n",
       "<table border=\"1\" class=\"dataframe\">\n",
       "  <thead>\n",
       "    <tr style=\"text-align: right;\">\n",
       "      <th></th>\n",
       "      <th>Unique Id</th>\n",
       "      <th>indicator_id</th>\n",
       "      <th>geo_type_id</th>\n",
       "      <th>measurement_type_id</th>\n",
       "      <th>internal_id</th>\n",
       "      <th>subtopic_id</th>\n",
       "      <th>name</th>\n",
       "      <th>Measure</th>\n",
       "      <th>geo_type_name</th>\n",
       "      <th>description</th>\n",
       "      <th>...</th>\n",
       "      <th>year_description</th>\n",
       "      <th>data_value_heart</th>\n",
       "      <th>geo_entity_id.1</th>\n",
       "      <th>geo_entity_name.1</th>\n",
       "      <th>year_description.1</th>\n",
       "      <th>data_value_PM</th>\n",
       "      <th>geo_entity_id.2</th>\n",
       "      <th>geo_entity_name.2</th>\n",
       "      <th>year_description.2</th>\n",
       "      <th>data_value_NO</th>\n",
       "    </tr>\n",
       "  </thead>\n",
       "  <tbody>\n",
       "    <tr>\n",
       "      <th>0</th>\n",
       "      <td>127504</td>\n",
       "      <td>172</td>\n",
       "      <td>3</td>\n",
       "      <td>125</td>\n",
       "      <td>90</td>\n",
       "      <td>13</td>\n",
       "      <td>Heart Attack Hospitalizations</td>\n",
       "      <td>Age-Adjusted Rate - Adults 35 to 64 Yrs Old</td>\n",
       "      <td>UHF42</td>\n",
       "      <td>Neighborhood (UHF 42)</td>\n",
       "      <td>...</td>\n",
       "      <td>2010</td>\n",
       "      <td>11.5</td>\n",
       "      <td>101</td>\n",
       "      <td>Kingsbridge - Riverdale</td>\n",
       "      <td>Annual Average 2010</td>\n",
       "      <td>10.09</td>\n",
       "      <td>101</td>\n",
       "      <td>Kingsbridge - Riverdale</td>\n",
       "      <td>Annual Average 2010</td>\n",
       "      <td>20.13</td>\n",
       "    </tr>\n",
       "    <tr>\n",
       "      <th>1</th>\n",
       "      <td>127506</td>\n",
       "      <td>172</td>\n",
       "      <td>3</td>\n",
       "      <td>125</td>\n",
       "      <td>90</td>\n",
       "      <td>13</td>\n",
       "      <td>Heart Attack Hospitalizations</td>\n",
       "      <td>Age-Adjusted Rate - Adults 35 to 64 Yrs Old</td>\n",
       "      <td>UHF42</td>\n",
       "      <td>Neighborhood (UHF 42)</td>\n",
       "      <td>...</td>\n",
       "      <td>2010</td>\n",
       "      <td>11.6</td>\n",
       "      <td>102</td>\n",
       "      <td>Northeast Bronx</td>\n",
       "      <td>Annual Average 2010</td>\n",
       "      <td>9.65</td>\n",
       "      <td>102</td>\n",
       "      <td>Northeast Bronx</td>\n",
       "      <td>Annual Average 2010</td>\n",
       "      <td>20.21</td>\n",
       "    </tr>\n",
       "    <tr>\n",
       "      <th>2</th>\n",
       "      <td>127508</td>\n",
       "      <td>172</td>\n",
       "      <td>3</td>\n",
       "      <td>125</td>\n",
       "      <td>90</td>\n",
       "      <td>13</td>\n",
       "      <td>Heart Attack Hospitalizations</td>\n",
       "      <td>Age-Adjusted Rate - Adults 35 to 64 Yrs Old</td>\n",
       "      <td>UHF42</td>\n",
       "      <td>Neighborhood (UHF 42)</td>\n",
       "      <td>...</td>\n",
       "      <td>2010</td>\n",
       "      <td>16.6</td>\n",
       "      <td>103</td>\n",
       "      <td>Fordham - Bronx Pk</td>\n",
       "      <td>Annual Average 2010</td>\n",
       "      <td>10.26</td>\n",
       "      <td>103</td>\n",
       "      <td>Fordham - Bronx Pk</td>\n",
       "      <td>Annual Average 2010</td>\n",
       "      <td>22.06</td>\n",
       "    </tr>\n",
       "    <tr>\n",
       "      <th>3</th>\n",
       "      <td>127510</td>\n",
       "      <td>172</td>\n",
       "      <td>3</td>\n",
       "      <td>125</td>\n",
       "      <td>90</td>\n",
       "      <td>13</td>\n",
       "      <td>Heart Attack Hospitalizations</td>\n",
       "      <td>Age-Adjusted Rate - Adults 35 to 64 Yrs Old</td>\n",
       "      <td>UHF42</td>\n",
       "      <td>Neighborhood (UHF 42)</td>\n",
       "      <td>...</td>\n",
       "      <td>2010</td>\n",
       "      <td>16.7</td>\n",
       "      <td>104</td>\n",
       "      <td>Pelham - Throgs Neck</td>\n",
       "      <td>Annual Average 2010</td>\n",
       "      <td>9.68</td>\n",
       "      <td>104</td>\n",
       "      <td>Pelham - Throgs Neck</td>\n",
       "      <td>Annual Average 2010</td>\n",
       "      <td>21.04</td>\n",
       "    </tr>\n",
       "    <tr>\n",
       "      <th>4</th>\n",
       "      <td>127512</td>\n",
       "      <td>172</td>\n",
       "      <td>3</td>\n",
       "      <td>125</td>\n",
       "      <td>90</td>\n",
       "      <td>13</td>\n",
       "      <td>Heart Attack Hospitalizations</td>\n",
       "      <td>Age-Adjusted Rate - Adults 35 to 64 Yrs Old</td>\n",
       "      <td>UHF42</td>\n",
       "      <td>Neighborhood (UHF 42)</td>\n",
       "      <td>...</td>\n",
       "      <td>2010</td>\n",
       "      <td>17.9</td>\n",
       "      <td>105</td>\n",
       "      <td>Crotona -Tremont</td>\n",
       "      <td>Annual Average 2010</td>\n",
       "      <td>10.99</td>\n",
       "      <td>105</td>\n",
       "      <td>Crotona -Tremont</td>\n",
       "      <td>Annual Average 2010</td>\n",
       "      <td>25.25</td>\n",
       "    </tr>\n",
       "  </tbody>\n",
       "</table>\n",
       "<p>5 rows × 22 columns</p>\n",
       "</div>"
      ],
      "text/plain": [
       "  Unique Id  indicator_id  geo_type_id  measurement_type_id  internal_id  \\\n",
       "0    127504           172            3                  125           90   \n",
       "1    127506           172            3                  125           90   \n",
       "2    127508           172            3                  125           90   \n",
       "3    127510           172            3                  125           90   \n",
       "4    127512           172            3                  125           90   \n",
       "\n",
       "   subtopic_id                           name  \\\n",
       "0           13  Heart Attack Hospitalizations   \n",
       "1           13  Heart Attack Hospitalizations   \n",
       "2           13  Heart Attack Hospitalizations   \n",
       "3           13  Heart Attack Hospitalizations   \n",
       "4           13  Heart Attack Hospitalizations   \n",
       "\n",
       "                                       Measure geo_type_name  \\\n",
       "0  Age-Adjusted Rate - Adults 35 to 64 Yrs Old         UHF42   \n",
       "1  Age-Adjusted Rate - Adults 35 to 64 Yrs Old         UHF42   \n",
       "2  Age-Adjusted Rate - Adults 35 to 64 Yrs Old         UHF42   \n",
       "3  Age-Adjusted Rate - Adults 35 to 64 Yrs Old         UHF42   \n",
       "4  Age-Adjusted Rate - Adults 35 to 64 Yrs Old         UHF42   \n",
       "\n",
       "             description      ...       year_description data_value_heart  \\\n",
       "0  Neighborhood (UHF 42)      ...                   2010             11.5   \n",
       "1  Neighborhood (UHF 42)      ...                   2010             11.6   \n",
       "2  Neighborhood (UHF 42)      ...                   2010             16.6   \n",
       "3  Neighborhood (UHF 42)      ...                   2010             16.7   \n",
       "4  Neighborhood (UHF 42)      ...                   2010             17.9   \n",
       "\n",
       "   geo_entity_id.1        geo_entity_name.1   year_description.1  \\\n",
       "0              101  Kingsbridge - Riverdale  Annual Average 2010   \n",
       "1              102          Northeast Bronx  Annual Average 2010   \n",
       "2              103       Fordham - Bronx Pk  Annual Average 2010   \n",
       "3              104     Pelham - Throgs Neck  Annual Average 2010   \n",
       "4              105         Crotona -Tremont  Annual Average 2010   \n",
       "\n",
       "  data_value_PM geo_entity_id.2        geo_entity_name.2   year_description.2  \\\n",
       "0         10.09             101  Kingsbridge - Riverdale  Annual Average 2010   \n",
       "1          9.65             102          Northeast Bronx  Annual Average 2010   \n",
       "2         10.26             103       Fordham - Bronx Pk  Annual Average 2010   \n",
       "3          9.68             104     Pelham - Throgs Neck  Annual Average 2010   \n",
       "4         10.99             105         Crotona -Tremont  Annual Average 2010   \n",
       "\n",
       "  data_value_NO  \n",
       "0         20.13  \n",
       "1         20.21  \n",
       "2         22.06  \n",
       "3         21.04  \n",
       "4         25.25  \n",
       "\n",
       "[5 rows x 22 columns]"
      ]
     },
     "execution_count": 15,
     "metadata": {},
     "output_type": "execute_result"
    }
   ],
   "source": [
    "datas.head()"
   ]
  },
  {
   "cell_type": "code",
   "execution_count": 11,
   "metadata": {
    "collapsed": false
   },
   "outputs": [
    {
     "data": {
      "text/plain": [
       "(-5, 30)"
      ]
     },
     "execution_count": 11,
     "metadata": {},
     "output_type": "execute_result"
    },
    {
     "data": {
      "image/png": "[encoded data removed]",
      "text/plain": [
       "<matplotlib.figure.Figure at 0x10a1824d0>"
      ]
     },
     "metadata": {},
     "output_type": "display_data"
    }
   ],
   "source": [
    "datas[['data_value_PM2.5', 'data_value_heart']].plot(kind='scatter', x='data_value_PM2.5', y='data_value_heart',marker='o', s=50, \n",
    "                                    alpha=0.5,figsize=(10,5))\n",
    "plt.xlim(5, 20)\n",
    "plt.ylim(-5, 30)"
   ]
  },
  {
   "cell_type": "code",
   "execution_count": 17,
   "metadata": {
    "collapsed": false
   },
   "outputs": [
    {
     "name": "stdout",
     "output_type": "stream",
     "text": [
      "                            OLS Regression Results                            \n",
      "==============================================================================\n",
      "Dep. Variable:       data_value_heart   R-squared:                       0.115\n",
      "Model:                            OLS   Adj. R-squared:                  0.070\n",
      "Method:                 Least Squares   F-statistic:                     2.544\n",
      "Date:                Thu, 10 Mar 2016   Prob (F-statistic):             0.0915\n",
      "Time:                        15:14:57   Log-Likelihood:                -129.20\n",
      "No. Observations:                  42   AIC:                             264.4\n",
      "Df Residuals:                      39   BIC:                             269.6\n",
      "Df Model:                           2                                         \n",
      "Covariance Type:            nonrobust                                         \n",
      "=================================================================================\n",
      "                    coef    std err          t      P>|t|      [95.0% Conf. Int.]\n",
      "---------------------------------------------------------------------------------\n",
      "Intercept        24.2950     11.424      2.127      0.040         1.187    47.403\n",
      "data_value_PM    -0.3034      2.180     -0.139      0.890        -4.712     4.105\n",
      "data_value_NO    -0.2891      0.498     -0.580      0.565        -1.297     0.719\n",
      "==============================================================================\n",
      "Omnibus:                        6.510   Durbin-Watson:                   1.391\n",
      "Prob(Omnibus):                  0.039   Jarque-Bera (JB):                5.521\n",
      "Skew:                           0.868   Prob(JB):                       0.0632\n",
      "Kurtosis:                       3.375   Cond. No.                         366.\n",
      "==============================================================================\n",
      "\n",
      "Warnings:\n",
      "[1] Standard Errors assume that the covariance matrix of the errors is correctly specified.\n"
     ]
    }
   ],
   "source": [
    "mod = smf.ols(formula='data_value_heart ~ data_value_PM + data_value_NO', data = datas).fit()\n",
    "print(mod.summary())"
   ]
  },
  {
   "cell_type": "code",
   "execution_count": 23,
   "metadata": {
    "collapsed": false
   },
   "outputs": [],
   "source": [
    "datas['heart'] = np.log(datas['data_value_heart'])\n",
    "datas['PM'] = np.log(datas['data_value_PM'])\n",
    "datas['NO'] = np.log(datas['data_value_NO'])"
   ]
  },
  {
   "cell_type": "code",
   "execution_count": 24,
   "metadata": {
    "collapsed": false
   },
   "outputs": [
    {
     "name": "stdout",
     "output_type": "stream",
     "text": [
      "                            OLS Regression Results                            \n",
      "==============================================================================\n",
      "Dep. Variable:                  heart   R-squared:                       0.159\n",
      "Model:                            OLS   Adj. R-squared:                  0.116\n",
      "Method:                 Least Squares   F-statistic:                     3.699\n",
      "Date:                Thu, 10 Mar 2016   Prob (F-statistic):             0.0338\n",
      "Time:                        15:18:32   Log-Likelihood:                -18.971\n",
      "No. Observations:                  42   AIC:                             43.94\n",
      "Df Residuals:                      39   BIC:                             49.15\n",
      "Df Model:                           2                                         \n",
      "Covariance Type:            nonrobust                                         \n",
      "==============================================================================\n",
      "                 coef    std err          t      P>|t|      [95.0% Conf. Int.]\n",
      "------------------------------------------------------------------------------\n",
      "Intercept      5.6559      1.419      3.987      0.000         2.786     8.525\n",
      "PM            -1.0118      1.385     -0.730      0.469        -3.814     1.790\n",
      "NO            -0.2353      0.711     -0.331      0.743        -1.674     1.203\n",
      "==============================================================================\n",
      "Omnibus:                        0.284   Durbin-Watson:                   1.290\n",
      "Prob(Omnibus):                  0.868   Jarque-Bera (JB):                0.032\n",
      "Skew:                          -0.067   Prob(JB):                        0.984\n",
      "Kurtosis:                       3.028   Cond. No.                         130.\n",
      "==============================================================================\n",
      "\n",
      "Warnings:\n",
      "[1] Standard Errors assume that the covariance matrix of the errors is correctly specified.\n"
     ]
    }
   ],
   "source": [
    "mod = smf.ols(formula='heart ~ PM + NO', data = datas).fit()\n",
    "print(mod.summary())"
   ]
  },
  {
   "cell_type": "code",
   "execution_count": 27,
   "metadata": {
    "collapsed": false
   },
   "outputs": [
    {
     "data": {
      "text/plain": [
       "(-5, 30)"
      ]
     },
     "execution_count": 27,
     "metadata": {},
     "output_type": "execute_result"
    },
    {
     "data": {
      "image/png": "[encoded data removed]",
      "text/plain": [
       "<matplotlib.figure.Figure at 0x10a8b4390>"
      ]
     },
     "metadata": {},
     "output_type": "display_data"
    }
   ],
   "source": [
    "datas[['data_value_NO', 'data_value_heart']].plot(kind='scatter', x='data_value_NO', y='data_value_heart',marker='o', s=50, \n",
    "                                    alpha=0.5,figsize=(10,5))\n",
    "plt.xlim(5, 50)\n",
    "plt.ylim(-5, 30)"
   ]
  },
  {
   "cell_type": "code",
   "execution_count": 36,
   "metadata": {
    "collapsed": true
   },
   "outputs": [],
   "source": [
    "df = datas.sort_values('data_value_NO', ascending=1)\n",
    "dfs = df.sort_values('data_value_PM', ascending=1)"
   ]
  },
  {
   "cell_type": "code",
   "execution_count": 33,
   "metadata": {
    "collapsed": false
   },
   "outputs": [
    {
     "name": "stdout",
     "output_type": "stream",
     "text": [
      "                            OLS Regression Results                            \n",
      "==============================================================================\n",
      "Dep. Variable:       data_value_heart   R-squared:                       0.115\n",
      "Model:                            OLS   Adj. R-squared:                  0.093\n",
      "Method:                 Least Squares   F-statistic:                     5.196\n",
      "Date:                Thu, 10 Mar 2016   Prob (F-statistic):             0.0281\n",
      "Time:                        15:30:05   Log-Likelihood:                -129.21\n",
      "No. Observations:                  42   AIC:                             262.4\n",
      "Df Residuals:                      40   BIC:                             265.9\n",
      "Df Model:                           1                                         \n",
      "Covariance Type:            nonrobust                                         \n",
      "=================================================================================\n",
      "                    coef    std err          t      P>|t|      [95.0% Conf. Int.]\n",
      "---------------------------------------------------------------------------------\n",
      "Intercept        22.7976      3.800      6.000      0.000        15.118    30.477\n",
      "data_value_NO    -0.3549      0.156     -2.279      0.028        -0.670    -0.040\n",
      "==============================================================================\n",
      "Omnibus:                        6.660   Durbin-Watson:                   1.646\n",
      "Prob(Omnibus):                  0.036   Jarque-Bera (JB):                5.676\n",
      "Skew:                           0.879   Prob(JB):                       0.0585\n",
      "Kurtosis:                       3.387   Cond. No.                         112.\n",
      "==============================================================================\n",
      "\n",
      "Warnings:\n",
      "[1] Standard Errors assume that the covariance matrix of the errors is correctly specified.\n"
     ]
    }
   ],
   "source": [
    "Y = sm.add_constant(df['data_value_NO'])\n",
    "model3 = smf.ols('data_value_heart ~ data_value_NO', data=df, missing='drop').fit()\n",
    "print model3.summary()"
   ]
  },
  {
   "cell_type": "code",
   "execution_count": 37,
   "metadata": {
    "collapsed": false
   },
   "outputs": [
    {
     "name": "stdout",
     "output_type": "stream",
     "text": [
      "                            OLS Regression Results                            \n",
      "==============================================================================\n",
      "Dep. Variable:       data_value_heart   R-squared:                       0.108\n",
      "Model:                            OLS   Adj. R-squared:                  0.085\n",
      "Method:                 Least Squares   F-statistic:                     4.831\n",
      "Date:                Thu, 10 Mar 2016   Prob (F-statistic):             0.0338\n",
      "Time:                        15:51:12   Log-Likelihood:                -129.38\n",
      "No. Observations:                  42   AIC:                             262.8\n",
      "Df Residuals:                      40   BIC:                             266.2\n",
      "Df Model:                           1                                         \n",
      "Covariance Type:            nonrobust                                         \n",
      "=================================================================================\n",
      "                    coef    std err          t      P>|t|      [95.0% Conf. Int.]\n",
      "---------------------------------------------------------------------------------\n",
      "Intercept        29.5268      6.957      4.244      0.000        15.466    43.587\n",
      "data_value_PM    -1.5032      0.684     -2.198      0.034        -2.885    -0.121\n",
      "==============================================================================\n",
      "Omnibus:                        5.663   Durbin-Watson:                   1.831\n",
      "Prob(Omnibus):                  0.059   Jarque-Bera (JB):                4.690\n",
      "Skew:                           0.805   Prob(JB):                       0.0959\n",
      "Kurtosis:                       3.300   Cond. No.                         85.8\n",
      "==============================================================================\n",
      "\n",
      "Warnings:\n",
      "[1] Standard Errors assume that the covariance matrix of the errors is correctly specified.\n"
     ]
    }
   ],
   "source": [
    "mod = smf.ols(formula='data_value_heart ~ data_value_PM', data = dfs).fit()\n",
    "print(mod.summary())"
   ]
  },
  {
   "cell_type": "code",
   "execution_count": 38,
   "metadata": {
    "collapsed": true
   },
   "outputs": [],
   "source": [
    "datas = pd.read_csv('Dataheart.csv')"
   ]
  },
  {
   "cell_type": "code",
   "execution_count": 39,
   "metadata": {
    "collapsed": false
   },
   "outputs": [
    {
     "name": "stdout",
     "output_type": "stream",
     "text": [
      "                            OLS Regression Results                            \n",
      "==============================================================================\n",
      "Dep. Variable:       data_value_heart   R-squared:                       0.093\n",
      "Model:                            OLS   Adj. R-squared:                  0.083\n",
      "Method:                 Least Squares   F-statistic:                     8.509\n",
      "Date:                Thu, 10 Mar 2016   Prob (F-statistic):           0.000304\n",
      "Time:                        16:05:50   Log-Likelihood:                -517.05\n",
      "No. Observations:                 168   AIC:                             1040.\n",
      "Df Residuals:                     165   BIC:                             1049.\n",
      "Df Model:                           2                                         \n",
      "Covariance Type:            nonrobust                                         \n",
      "=================================================================================\n",
      "                    coef    std err          t      P>|t|      [95.0% Conf. Int.]\n",
      "---------------------------------------------------------------------------------\n",
      "Intercept        19.0981      4.623      4.131      0.000         9.971    28.225\n",
      "data_value_PM     0.4659      0.848      0.549      0.584        -1.209     2.141\n",
      "data_value_NO    -0.4004      0.200     -1.998      0.047        -0.796    -0.005\n",
      "==============================================================================\n",
      "Omnibus:                       19.076   Durbin-Watson:                   1.301\n",
      "Prob(Omnibus):                  0.000   Jarque-Bera (JB):               21.913\n",
      "Skew:                           0.855   Prob(JB):                     1.74e-05\n",
      "Kurtosis:                       3.457   Cond. No.                         307.\n",
      "==============================================================================\n",
      "\n",
      "Warnings:\n",
      "[1] Standard Errors assume that the covariance matrix of the errors is correctly specified.\n"
     ]
    }
   ],
   "source": [
    "mod = smf.ols(formula='data_value_heart ~ data_value_PM + data_value_NO', data = datas).fit()\n",
    "print(mod.summary())"
   ]
  },
  {
   "cell_type": "code",
   "execution_count": 42,
   "metadata": {
    "collapsed": false
   },
   "outputs": [
    {
     "name": "stdout",
     "output_type": "stream",
     "text": [
      "                            OLS Regression Results                            \n",
      "==============================================================================\n",
      "Dep. Variable:       data_value_heart   R-squared:                       0.092\n",
      "Model:                            OLS   Adj. R-squared:                  0.086\n",
      "Method:                 Least Squares   F-statistic:                     16.79\n",
      "Date:                Thu, 10 Mar 2016   Prob (F-statistic):           6.53e-05\n",
      "Time:                        16:40:53   Log-Likelihood:                -517.21\n",
      "No. Observations:                 168   AIC:                             1038.\n",
      "Df Residuals:                     166   BIC:                             1045.\n",
      "Df Model:                           1                                         \n",
      "Covariance Type:            nonrobust                                         \n",
      "=================================================================================\n",
      "                    coef    std err          t      P>|t|      [95.0% Conf. Int.]\n",
      "---------------------------------------------------------------------------------\n",
      "Intercept        21.4374      1.792     11.963      0.000        17.899    24.975\n",
      "data_value_NO    -0.2979      0.073     -4.097      0.000        -0.441    -0.154\n",
      "==============================================================================\n",
      "Omnibus:                       19.706   Durbin-Watson:                   1.287\n",
      "Prob(Omnibus):                  0.000   Jarque-Bera (JB):               22.786\n",
      "Skew:                           0.865   Prob(JB):                     1.13e-05\n",
      "Kurtosis:                       3.511   Cond. No.                         108.\n",
      "==============================================================================\n",
      "\n",
      "Warnings:\n",
      "[1] Standard Errors assume that the covariance matrix of the errors is correctly specified.\n"
     ]
    }
   ],
   "source": [
    "mod = smf.ols(formula='data_value_heart ~ data_value_NO', data = datas).fit()\n",
    "print(mod.summary())"
   ]
  },
  {
   "cell_type": "code",
   "execution_count": 43,
   "metadata": {
    "collapsed": false
   },
   "outputs": [
    {
     "name": "stdout",
     "output_type": "stream",
     "text": [
      "                            OLS Regression Results                            \n",
      "==============================================================================\n",
      "Dep. Variable:       data_value_heart   R-squared:                       0.072\n",
      "Model:                            OLS   Adj. R-squared:                  0.066\n",
      "Method:                 Least Squares   F-statistic:                     12.79\n",
      "Date:                Thu, 10 Mar 2016   Prob (F-statistic):           0.000456\n",
      "Time:                        16:41:12   Log-Likelihood:                -519.06\n",
      "No. Observations:                 168   AIC:                             1042.\n",
      "Df Residuals:                     166   BIC:                             1048.\n",
      "Df Model:                           1                                         \n",
      "Covariance Type:            nonrobust                                         \n",
      "=================================================================================\n",
      "                    coef    std err          t      P>|t|      [95.0% Conf. Int.]\n",
      "---------------------------------------------------------------------------------\n",
      "Intercept        25.7563      3.233      7.968      0.000        19.374    32.139\n",
      "data_value_PM    -1.1131      0.311     -3.577      0.000        -1.727    -0.499\n",
      "==============================================================================\n",
      "Omnibus:                       19.216   Durbin-Watson:                   1.227\n",
      "Prob(Omnibus):                  0.000   Jarque-Bera (JB):               22.047\n",
      "Skew:                           0.844   Prob(JB):                     1.63e-05\n",
      "Kurtosis:                       3.549   Cond. No.                         82.1\n",
      "==============================================================================\n",
      "\n",
      "Warnings:\n",
      "[1] Standard Errors assume that the covariance matrix of the errors is correctly specified.\n"
     ]
    }
   ],
   "source": [
    "mod = smf.ols(formula='data_value_heart ~ data_value_PM', data = datas).fit()\n",
    "print(mod.summary())"
   ]
  },
  {
   "cell_type": "code",
   "execution_count": 44,
   "metadata": {
    "collapsed": false
   },
   "outputs": [
    {
     "name": "stdout",
     "output_type": "stream",
     "text": [
      "                            OLS Regression Results                            \n",
      "==============================================================================\n",
      "Dep. Variable:                  heart   R-squared:                       0.121\n",
      "Model:                            OLS   Adj. R-squared:                  0.115\n",
      "Method:                 Least Squares   F-statistic:                     22.79\n",
      "Date:                Thu, 10 Mar 2016   Prob (F-statistic):           3.94e-06\n",
      "Time:                        16:41:33   Log-Likelihood:                -80.254\n",
      "No. Observations:                 168   AIC:                             164.5\n",
      "Df Residuals:                     166   BIC:                             170.8\n",
      "Df Model:                           1                                         \n",
      "Covariance Type:            nonrobust                                         \n",
      "==============================================================================\n",
      "                 coef    std err          t      P>|t|      [95.0% Conf. Int.]\n",
      "------------------------------------------------------------------------------\n",
      "Intercept      5.2619      0.563      9.349      0.000         4.151     6.373\n",
      "PM            -1.1543      0.242     -4.774      0.000        -1.632    -0.677\n",
      "==============================================================================\n",
      "Omnibus:                        0.097   Durbin-Watson:                   1.111\n",
      "Prob(Omnibus):                  0.953   Jarque-Bera (JB):                0.157\n",
      "Skew:                          -0.056   Prob(JB):                        0.925\n",
      "Kurtosis:                       2.901   Cond. No.                         51.2\n",
      "==============================================================================\n",
      "\n",
      "Warnings:\n",
      "[1] Standard Errors assume that the covariance matrix of the errors is correctly specified.\n"
     ]
    }
   ],
   "source": [
    "mod = smf.ols(formula='heart ~ PM', data = datas).fit()\n",
    "print(mod.summary())"
   ]
  },
  {
   "cell_type": "code",
   "execution_count": 45,
   "metadata": {
    "collapsed": false
   },
   "outputs": [
    {
     "name": "stdout",
     "output_type": "stream",
     "text": [
      "                            OLS Regression Results                            \n",
      "==============================================================================\n",
      "Dep. Variable:                  heart   R-squared:                       0.124\n",
      "Model:                            OLS   Adj. R-squared:                  0.119\n",
      "Method:                 Least Squares   F-statistic:                     23.51\n",
      "Date:                Thu, 10 Mar 2016   Prob (F-statistic):           2.84e-06\n",
      "Time:                        16:41:51   Log-Likelihood:                -79.934\n",
      "No. Observations:                 168   AIC:                             163.9\n",
      "Df Residuals:                     166   BIC:                             170.1\n",
      "Df Model:                           1                                         \n",
      "Covariance Type:            nonrobust                                         \n",
      "==============================================================================\n",
      "                 coef    std err          t      P>|t|      [95.0% Conf. Int.]\n",
      "------------------------------------------------------------------------------\n",
      "Intercept      4.5771      0.413     11.077      0.000         3.761     5.393\n",
      "NO            -0.6340      0.131     -4.849      0.000        -0.892    -0.376\n",
      "==============================================================================\n",
      "Omnibus:                        0.150   Durbin-Watson:                   1.167\n",
      "Prob(Omnibus):                  0.928   Jarque-Bera (JB):                0.280\n",
      "Skew:                          -0.054   Prob(JB):                        0.869\n",
      "Kurtosis:                       2.831   Cond. No.                         47.5\n",
      "==============================================================================\n",
      "\n",
      "Warnings:\n",
      "[1] Standard Errors assume that the covariance matrix of the errors is correctly specified.\n"
     ]
    }
   ],
   "source": [
    "mod = smf.ols(formula='heart ~ NO', data = datas).fit()\n",
    "print(mod.summary())"
   ]
  },
  {
   "cell_type": "code",
   "execution_count": 40,
   "metadata": {
    "collapsed": true
   },
   "outputs": [],
   "source": [
    "datas['heart'] = np.log(datas['data_value_heart'])\n",
    "datas['PM'] = np.log(datas['data_value_PM'])\n",
    "datas['NO'] = np.log(datas['data_value_NO'])"
   ]
  },
  {
   "cell_type": "code",
   "execution_count": 41,
   "metadata": {
    "collapsed": false
   },
   "outputs": [
    {
     "name": "stdout",
     "output_type": "stream",
     "text": [
      "                            OLS Regression Results                            \n",
      "==============================================================================\n",
      "Dep. Variable:                  heart   R-squared:                       0.128\n",
      "Model:                            OLS   Adj. R-squared:                  0.118\n",
      "Method:                 Least Squares   F-statistic:                     12.15\n",
      "Date:                Thu, 10 Mar 2016   Prob (F-statistic):           1.19e-05\n",
      "Time:                        16:06:20   Log-Likelihood:                -79.517\n",
      "No. Observations:                 168   AIC:                             165.0\n",
      "Df Residuals:                     165   BIC:                             174.4\n",
      "Df Model:                           2                                         \n",
      "Covariance Type:            nonrobust                                         \n",
      "==============================================================================\n",
      "                 coef    std err          t      P>|t|      [95.0% Conf. Int.]\n",
      "------------------------------------------------------------------------------\n",
      "Intercept      4.9813      0.608      8.188      0.000         3.780     6.182\n",
      "PM            -0.5225      0.577     -0.906      0.366        -1.662     0.617\n",
      "NO            -0.3769      0.313     -1.206      0.230        -0.994     0.240\n",
      "==============================================================================\n",
      "Omnibus:                        0.056   Durbin-Watson:                   1.150\n",
      "Prob(Omnibus):                  0.972   Jarque-Bera (JB):                0.146\n",
      "Skew:                          -0.039   Prob(JB):                        0.930\n",
      "Kurtosis:                       2.879   Cond. No.                         109.\n",
      "==============================================================================\n",
      "\n",
      "Warnings:\n",
      "[1] Standard Errors assume that the covariance matrix of the errors is correctly specified.\n"
     ]
    }
   ],
   "source": [
    "mod = smf.ols(formula='heart ~ PM + NO', data = datas).fit()\n",
    "print(mod.summary())"
   ]
  },
  {
   "cell_type": "code",
   "execution_count": null,
   "metadata": {
    "collapsed": true
   },
   "outputs": [],
   "source": []
  }
 ],
 "metadata": {
  "kernelspec": {
   "display_name": "Python 2",
   "language": "python",
   "name": "python2"
  },
  "language_info": {
   "codemirror_mode": {
    "name": "ipython",
    "version": 2
   },
   "file_extension": ".py",
   "mimetype": "text/x-python",
   "name": "python",
   "nbconvert_exporter": "python",
   "pygments_lexer": "ipython2",
   "version": "2.7.10"
  }
 },
 "nbformat": 4,
 "nbformat_minor": 0
}
